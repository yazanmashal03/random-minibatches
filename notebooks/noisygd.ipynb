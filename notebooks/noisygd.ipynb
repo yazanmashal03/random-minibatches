{
 "cells": [
  {
   "cell_type": "markdown",
   "id": "f7bce6f4",
   "metadata": {},
   "source": [
    "# Implementing noiseless gradient descent"
   ]
  },
  {
   "cell_type": "code",
   "execution_count": 1,
   "id": "ed0d1893",
   "metadata": {},
   "outputs": [],
   "source": [
    "import numpy as np\n",
    "import matplotlib.pyplot as plt\n"
   ]
  },
  {
   "cell_type": "code",
   "execution_count": null,
   "id": "3b661777",
   "metadata": {},
   "outputs": [
    {
     "name": "stdout",
     "output_type": "stream",
     "text": [
      "This is I - XX^+:  1.0000000000000002\n"
     ]
    }
   ],
   "source": [
    "# Generate synthetic data and setting up the experiment\n",
    "np.random.seed(34)\n",
    "n_samples = 10\n",
    "n_features = 100\n",
    "\n",
    "n_iterations = 500\n",
    "n_simulations = 10\n",
    "p_succ = 0.2\n",
    "weight_distribution = 'uniform'\n",
    "initialization = 'orthogonal'\n",
    "alpha = 0.65 # this is the step size for the constant step size\n",
    "step_type = 'constant'\n",
    "\n",
    "# Generate random data matrix X using the QR decomposition\n",
    "G = np.random.randn(n_samples, n_samples)\n",
    "\n",
    "# do a QR decomposition\n",
    "Q, R = np.linalg.qr(G)\n",
    "\n",
    "A = np.random.randn(n_features, n_features)\n",
    "S,T = np.linalg.qr(A)\n",
    "\n",
    "# Generate the eigenvalue matrix sigma\n",
    "sigma = np.zeros((n_samples, n_features))\n",
    "\n",
    "# Set diagonal elements to random normal with probability p\n",
    "for i in range(min(n_samples, n_features)):\n",
    "    sigma[i,i] = np.random.binomial(1, p=0.6) * 1 * np.random.randn()\n",
    "\n",
    "X = Q @ sigma @ S\n",
    "print(\"This is I - XX^+: \", np.linalg.norm(np.eye(n_samples) - X @ np.linalg.pinv(X), ord=2))\n",
    "\n",
    "# Generate true weights\n",
    "w_true = np.random.randn(n_features, 1)\n",
    "noise = np.random.randn(n_samples, 1)\n",
    "Y = X @ w_true + noise"
   ]
  },
  {
   "cell_type": "code",
   "execution_count": null,
   "id": "3b33f52f",
   "metadata": {},
   "outputs": [],
   "source": []
  }
 ],
 "metadata": {
  "kernelspec": {
   "display_name": "jax_env",
   "language": "python",
   "name": "python3"
  },
  "language_info": {
   "codemirror_mode": {
    "name": "ipython",
    "version": 3
   },
   "file_extension": ".py",
   "mimetype": "text/x-python",
   "name": "python",
   "nbconvert_exporter": "python",
   "pygments_lexer": "ipython3",
   "version": "3.10.17"
  }
 },
 "nbformat": 4,
 "nbformat_minor": 5
}
